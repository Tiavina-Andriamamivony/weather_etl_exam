{
 "cells": [
  {
   "cell_type": "markdown",
   "metadata": {},
   "source": [
    "# EDA - Données Météorologiques Malgaches\n",
    "## Analyse Exploratoire des Conditions Climatiques"
   ]
  },
  {
   "cell_type": "code",
   "execution_count": null,
   "metadata": {},
   "outputs": [],
   "source": [
    "# Importations des librairies\n",
    "import pandas as pd\n",
    "import numpy as np\n",
    "import matplotlib.pyplot as plt\n",
    "import seaborn as sns\n",
    "from IPython.display import display\n",
    "\n",
    "# Configuration des visualisations\n",
    "plt.style.use('ggplot')\n",
    "plt.rcParams['figure.figsize'] = (12, 6)\n",
    "%matplotlib inline"
   ]
  },
  {
   "cell_type": "markdown",
   "metadata": {},
   "source": [
    "## 1. Chargement des Données"
   ]
  },
  {
   "cell_type": "code",
   "execution_count": null,
   "metadata": {},
   "outputs": [],
   "source": [
    "# Chargement des tables du schéma en étoile\n",
    "facts = pd.read_csv(\"data/star_schema/facts_meteo.csv\")\n",
    "villes = pd.read_csv(\"data/star_schema/dim_villes.csv\")\n",
    "dates = pd.read_csv(\"data/star_schema/dim_dates.csv\")\n",
    "\n",
    "# Fusion des tables\n",
    "df = facts.merge(villes, on='ville_id').merge(dates, on='date_id')\n",
    "df['date'] = pd.to_datetime(df['date'])\n",
    "\n",
    "# Aperçu\n",
    "print(\"\\n=== Structure des données ===\")\n",
    "display(df.head(3))\n",
    "print(\"\\nInfos clés :\")\n",
    "display(df.info())"
   ]
  },
  {
   "cell_type": "markdown",
   "metadata": {},
   "source": [
    "## 2. Analyse Univariée"
   ]
  },
  {
   "cell_type": "code",
   "execution_count": null,
   "metadata": {},
   "outputs": [],
   "source": [
    "# Configuration des subplots\n",
    "fig, axes = plt.subplots(2, 2, figsize=(14, 10))\n",
    "\n",
    "# Température\n",
    "sns.histplot(df['temperature'], bins=20, kde=True, ax=axes[0,0])\n",
    "axes[0,0].set_title('Distribution des Températures')\n",
    "\n",
    "# Pluie\n",
    "sns.histplot(df[df['pluie']>0]['pluie'], bins=20, kde=True, ax=axes[0,1])\n",
    "axes[0,1].set_title('Distribution des Précipitations (jours de pluie)')\n",
    "\n",
    "# Vent\n",
    "sns.histplot(df['vent'], bins=20, kde=True, ax=axes[1,0])\n",
    "axes[1,0].set_title('Distribution de la Vitesse du Vent')\n",
    "\n",
    "# Score Météo\n",
    "sns.histplot(df['score_meteo'], bins=20, kde=True, ax=axes[1,1])\n",
    "axes[1,1].set_title('Distribution des Scores Météo')\n",
    "\n",
    "plt.tight_layout()\n",
    "plt.show()\n",
    "\n",
    "# Statistiques descriptives\n",
    "print(\"\\n=== Statistiques Descriptives ===\")\n",
    "display(df[['temperature', 'pluie', 'vent', 'score_meteo']].describe())"
   ]
  },
  {
   "cell_type": "markdown",
   "metadata": {},
   "source": [
    "## 3. Analyse par Ville"
   ]
  },
  {
   "cell_type": "code",
   "execution_count": null,
   "metadata": {},
   "outputs": [],
   "source": [
    "# Boxplot des températures par ville\n",
    "plt.figure(figsize=(12, 6))\n",
    "sns.boxplot(data=df, x='ville', y='temperature', order=villes['ville'])\n",
    "plt.title('Distribution des Températures par Ville')\n",
    "plt.xticks(rotation=45)\n",
    "plt.show()\n",
    "\n",
    "# Tableau récapitulatif\n",
    "print(\"\\n=== Statistiques par Ville ===\")\n",
    "ville_stats = df.groupby('ville').agg({\n",
    "    'temperature': ['mean', 'min', 'max'],\n",
    "    'pluie': ['sum', 'mean'],\n",
    "    'score_meteo': 'mean'\n",
    "}).round(1)\n",
    "display(ville_stats)"
   ]
  },
  {
   "cell_type": "markdown",
   "metadata": {},
   "source": [
    "## 4. Analyse Temporelle"
   ]
  },
  {
   "cell_type": "code",
   "execution_count": null,
   "metadata": {},
   "outputs": [],
   "source": [
    "# Tendances mensuelles\n",
    "monthly = df.groupby(['mois', 'ville'])['temperature'].mean().unstack()\n",
    "\n",
    "plt.figure(figsize=(14, 6))\n",
    "sns.lineplot(data=monthly, dashes=False, markers=True)\n",
    "plt.title('Évolution Mensuelle des Températures')\n",
    "plt.xlabel('Mois')\n",
    "plt.ylabel('Température Moyenne (°C)')\n",
    "plt.xticks(range(1,13))\n",
    "plt.grid(True)\n",
    "plt.legend(title='Ville', bbox_to_anchor=(1.05, 1))\n",
    "plt.show()"
   ]
  },
  {
   "cell_type": "markdown",
   "metadata": {},
   "source": [
    "## 5. Corrélations et Relations"
   ]
  },
  {
   "cell_type": "code",
   "execution_count": null,
   "metadata": {},
   "outputs": [],
   "source": [
    "# Matrice de corrélation\n",
    "corr = df[['temperature', 'humidite', 'pluie', 'vent', 'score_meteo']].corr()\n",
    "\n",
    "plt.figure(figsize=(10, 8))\n",
    "sns.heatmap(corr, annot=True, cmap='coolwarm', center=0)\n",
    "plt.title('Matrice de Corrélation')\n",
    "plt.show()\n",
    "\n",
    "# Relation Température/Score\n",
    "plt.figure(figsize=(10, 6))\n",
    "sns.scatterplot(data=df, x='temperature', y='score_meteo', hue='ville')\n",
    "plt.title('Relation entre Température et Score Météo')\n",
    "plt.show()"
   ]
  },
  {
   "cell_type": "markdown",
   "metadata": {},
   "source": [
    "## 6. Jours Idéaux"
   ]
  },
  {
   "cell_type": "code",
   "execution_count": null,
   "metadata": {},
   "outputs": [],
   "source": [
    "# Filtre des jours idéaux\n",
    "ideal_days = df[df['ideal_temp'] & df['low_rain'] & df['low_wind']]\n",
    "\n",
    "# Répartition par ville\n",
    "plt.figure(figsize=(10, 5))\n",
    "sns.countplot(data=ideal_days, x='ville', order=villes['ville'])\n",
    "plt.title('Nombre de Jours \"Parfaits\" par Ville')\n",
    "plt.xticks(rotation=45)\n",
    "plt.show()\n",
    "\n",
    "# Top 5 des meilleurs jours\n",
    "print(\"\\n=== Top 5 des Meilleurs Jours ===\")\n",
    "top_days = df.sort_values('score_meteo', ascending=False).head()\n",
    "display(top_days[['date', 'ville', 'temperature', 'pluie', 'vent', 'score_meteo']])"
   ]
  },
  {
   "cell_type": "markdown",
   "metadata": {},
   "source": [
    "## 7. Recommandations Finales"
   ]
  },
  {
   "cell_type": "code",
   "execution_count": null,
   "metadata": {},
   "outputs": [],
   "source": [
    "# Calcul des recommandations\n",
    "best_month = df.groupby('mois')['score_meteo'].mean().idxmax()\n",
    "best_city = df.groupby('ville')['score_meteo'].mean().idxmax()\n",
    "\n",
    "print(f\"\"\"\n",
    "=== Recommandations de Voyage ===\n",
    "Meilleure période globale : Mois {best_month}\n",
    "Ville la plus agréable : {best_city}\n",
    "\n",
    "Conseils :\n",
    "- Éviter Janvier-Février (fortes pluies)\n",
    "- Privilégier Mahajanga pour un climat chaud et sec\n",
    "- Antananarivo offre le meilleur équilibre température/humidité\n",
    "\"\"\")"
   ]
  }
 ],
 "metadata": {
  "kernelspec": {
   "display_name": "Python 3",
   "language": "python",
   "name": "python3"
  },
  "language_info": {
   "codemirror_mode": {
    "name": "ipython",
    "version": 3
   },
   "file_extension": ".py",
   "mimetype": "text/x-python",
   "name": "python",
   "nbconvert_exporter": "python",
   "pygments_lexer": "ipython3",
   "version": "3.8.5"
  }
 },
 "nbformat": 4,
 "nbformat_minor": 4
}